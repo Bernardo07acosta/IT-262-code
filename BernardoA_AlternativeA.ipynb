{
  "nbformat": 4,
  "nbformat_minor": 0,
  "metadata": {
    "colab": {
      "name": "BernardoA_AlternativeA",
      "provenance": [],
      "authorship_tag": "ABX9TyMlHVn+iUWYl03kE+drUh6p",
      "include_colab_link": true
    },
    "kernelspec": {
      "name": "python3",
      "display_name": "Python 3"
    },
    "language_info": {
      "name": "python"
    }
  },
  "cells": [
    {
      "cell_type": "markdown",
      "metadata": {
        "id": "view-in-github",
        "colab_type": "text"
      },
      "source": [
        "<a href=\"https://colab.research.google.com/github/Bernardo07acosta/IT-262-code/blob/main/BernardoA_AlternativeA.ipynb\" target=\"_parent\"><img src=\"https://colab.research.google.com/assets/colab-badge.svg\" alt=\"Open In Colab\"/></a>"
      ]
    },
    {
      "cell_type": "code",
      "execution_count": 6,
      "metadata": {
        "colab": {
          "base_uri": "https://localhost:8080/"
        },
        "id": "cuxTmp1SsMTK",
        "outputId": "99447fc5-7248-4bed-bf25-b270264c89f8"
      },
      "outputs": [
        {
          "output_type": "stream",
          "name": "stdout",
          "text": [
            "Empty DataFrame\n",
            "Columns: [criteria, weight, ratingA, ratingB, scoreA, scoreB]\n",
            "Index: []\n"
          ]
        }
      ],
      "source": [
        "import pandas as pd\n",
        "import math\n",
        "\n",
        "#Creates dataframe for our alternative analysis matrix\n",
        "AA=pd.DataFrame(columns=['criteria','weight','ratingA','ratingB','scoreA','scoreB'])\n",
        "print(AA)\n"
      ]
    },
    {
      "cell_type": "code",
      "source": [
        "#first step: add a list of criteria\n",
        "AA['criteria']=['risk','ROI','customerSatisfaction','feasibility','starategicAlignment']\n",
        "print(AA)"
      ],
      "metadata": {
        "colab": {
          "base_uri": "https://localhost:8080/"
        },
        "id": "zKdfT2E4tOx6",
        "outputId": "787f47bd-923c-4ca8-9307-9c84651223bc"
      },
      "execution_count": 7,
      "outputs": [
        {
          "output_type": "stream",
          "name": "stdout",
          "text": [
            "               criteria weight ratingA ratingB scoreA scoreB\n",
            "0                  risk    NaN     NaN     NaN    NaN    NaN\n",
            "1                   ROI    NaN     NaN     NaN    NaN    NaN\n",
            "2  customerSatisfaction    NaN     NaN     NaN    NaN    NaN\n",
            "3           feasibility    NaN     NaN     NaN    NaN    NaN\n",
            "4   starategicAlignment    NaN     NaN     NaN    NaN    NaN\n"
          ]
        }
      ]
    },
    {
      "cell_type": "code",
      "source": [
        "#second step: identify weights\n",
        "#weights show relative importance of each criterion\n",
        "#they must add up to 1 (or 100 if you use percentages)\n",
        "AA['weight']=[0.2,0.1,0.4,.15,.15]\n",
        "print(AA)"
      ],
      "metadata": {
        "colab": {
          "base_uri": "https://localhost:8080/"
        },
        "id": "qvZ-YuDft-TM",
        "outputId": "3ec4421b-f233-4db1-844e-b46faa33a5b0"
      },
      "execution_count": 8,
      "outputs": [
        {
          "output_type": "stream",
          "name": "stdout",
          "text": [
            "               criteria  weight ratingA ratingB scoreA scoreB\n",
            "0                  risk    0.20     NaN     NaN    NaN    NaN\n",
            "1                   ROI    0.10     NaN     NaN    NaN    NaN\n",
            "2  customerSatisfaction    0.40     NaN     NaN    NaN    NaN\n",
            "3           feasibility    0.15     NaN     NaN    NaN    NaN\n",
            "4   starategicAlignment    0.15     NaN     NaN    NaN    NaN\n"
          ]
        }
      ]
    },
    {
      "cell_type": "code",
      "source": [
        "#step 3: rate each alternative acress all criteria\n",
        "#choose a scale: 1-5 or 1-7 or 1-10\n",
        "#higher number: an alternative across all criteria \n",
        "AA['ratingA']=[3,4,2,3,2]\n",
        "AA['ratingB']=[4,1,2,1,5]\n",
        "\n",
        "#step 4: calculate partial scores by multiplying weight * ratings\n",
        "for index, row in AA.iterrows():\n",
        "  AA['scoreA'][index]=row['ratingA']*row['weight']\n",
        "  AA['scoreB'][index]=row['ratingB']*row['weight']\n",
        "\n",
        "print(AA)"
      ],
      "metadata": {
        "colab": {
          "base_uri": "https://localhost:8080/"
        },
        "id": "cBqh41uSuPJa",
        "outputId": "b5a337e2-6270-4e8f-967e-2ad791d90214"
      },
      "execution_count": 9,
      "outputs": [
        {
          "output_type": "stream",
          "name": "stdout",
          "text": [
            "               criteria  weight  ratingA  ratingB scoreA scoreB\n",
            "0                  risk    0.20        3        4    0.6    0.8\n",
            "1                   ROI    0.10        4        1    0.4    0.1\n",
            "2  customerSatisfaction    0.40        2        2    0.8    0.8\n",
            "3           feasibility    0.15        3        1   0.45   0.15\n",
            "4   starategicAlignment    0.15        2        5    0.3   0.75\n"
          ]
        },
        {
          "output_type": "stream",
          "name": "stderr",
          "text": [
            "/usr/local/lib/python3.7/dist-packages/ipykernel_launcher.py:9: SettingWithCopyWarning: \n",
            "A value is trying to be set on a copy of a slice from a DataFrame\n",
            "\n",
            "See the caveats in the documentation: https://pandas.pydata.org/pandas-docs/stable/user_guide/indexing.html#returning-a-view-versus-a-copy\n",
            "  if __name__ == '__main__':\n",
            "/usr/local/lib/python3.7/dist-packages/ipykernel_launcher.py:10: SettingWithCopyWarning: \n",
            "A value is trying to be set on a copy of a slice from a DataFrame\n",
            "\n",
            "See the caveats in the documentation: https://pandas.pydata.org/pandas-docs/stable/user_guide/indexing.html#returning-a-view-versus-a-copy\n",
            "  # Remove the CWD from sys.path while we load stuff.\n"
          ]
        }
      ]
    },
    {
      "cell_type": "code",
      "source": [
        "#step 5: add partial scores to get the total scores\n",
        "#which solution is the winner? the one with the highest total score\n",
        "totalScoreA=0\n",
        "totalScoreB=0\n",
        "for index, row in AA.iterrows():\n",
        "  totalScoreA+=row['scoreA']\n",
        "  totalScoreB+=row['scoreB']\n",
        "\n",
        "print ('the total score for A is {:.2f} and for B is {:.2f}'.format(totalScoreA,totalScoreB))"
      ],
      "metadata": {
        "colab": {
          "base_uri": "https://localhost:8080/"
        },
        "id": "itgWH0KDwOUW",
        "outputId": "e3e876e9-dd63-4183-ae95-a34709172e41"
      },
      "execution_count": 10,
      "outputs": [
        {
          "output_type": "stream",
          "name": "stdout",
          "text": [
            "the total score for A is 2.55 and for B is 2.60\n"
          ]
        }
      ]
    }
  ]
}