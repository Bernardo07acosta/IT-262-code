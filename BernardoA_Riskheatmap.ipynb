{
  "nbformat": 4,
  "nbformat_minor": 0,
  "metadata": {
    "colab": {
      "name": "BernardoA_Riskheatmap",
      "provenance": [],
      "collapsed_sections": [],
      "authorship_tag": "ABX9TyNqjJBeFEk/Asz7gUiGTegf",
      "include_colab_link": true
    },
    "kernelspec": {
      "name": "python3",
      "display_name": "Python 3"
    },
    "language_info": {
      "name": "python"
    }
  },
  "cells": [
    {
      "cell_type": "markdown",
      "metadata": {
        "id": "view-in-github",
        "colab_type": "text"
      },
      "source": [
        "<a href=\"https://colab.research.google.com/github/Bernardo07acosta/IT-262-code/blob/main/BernardoA_Riskheatmap.ipynb\" target=\"_parent\"><img src=\"https://colab.research.google.com/assets/colab-badge.svg\" alt=\"Open In Colab\"/></a>"
      ]
    },
    {
      "cell_type": "code",
      "execution_count": 1,
      "metadata": {
        "id": "h4Qu2NocX7zm"
      },
      "outputs": [],
      "source": [
        "import seaborn as sns\n",
        "import pandas as pd\n",
        "import numpy as np\n",
        "\n",
        "#create a dataFrame (datatable)\n",
        "df=pd.DataFrame(columns=['risk','likelihood','impact','score'])"
      ]
    },
    {
      "cell_type": "code",
      "source": [
        "df['risk']=['users','team','budget','secuirty','managment']"
      ],
      "metadata": {
        "id": "pUrs-kgSYmZQ"
      },
      "execution_count": 2,
      "outputs": []
    },
    {
      "cell_type": "code",
      "source": [
        "df['likelihood']=[0.2,0.3,0.1,0.5,0.1]"
      ],
      "metadata": {
        "id": "FdC1aCEzY1zE"
      },
      "execution_count": 3,
      "outputs": []
    },
    {
      "cell_type": "code",
      "source": [
        "df['impact']=[1,2,7,10,9.5]\n",
        "df['score']=df['impact']*df['likelihood']"
      ],
      "metadata": {
        "id": "DyXGTmz4Z9v6"
      },
      "execution_count": 8,
      "outputs": []
    },
    {
      "cell_type": "code",
      "source": [
        "df['score']=df['impact']*df['likelihood']"
      ],
      "metadata": {
        "id": "fYmNZNXeaRvh"
      },
      "execution_count": 9,
      "outputs": []
    },
    {
      "cell_type": "code",
      "source": [
        "scoresPivot=df.pivot('impact','likelihood','score')\n",
        "print(scoresPivot)\n",
        "\n",
        "labelsPivot=df.pivot('impact','likelihood','risk')\n",
        "print(labelsPivot)\n",
        "\n",
        "#replaces no lables with empty string\n",
        "labelsPivot.fillna('',inplace=True)\n",
        "\n",
        "#simple heatmap aka creates heatmap \n",
        "p1=sns.heatmap(scoresPivot, cmap=\"YlGn\",annot=labelsPivot, fmt='')"
      ],
      "metadata": {
        "colab": {
          "base_uri": "https://localhost:8080/",
          "height": 526
        },
        "id": "zGqgWCSIaawJ",
        "outputId": "e82dc754-ead3-4ad9-e79a-c9f18dcf4589"
      },
      "execution_count": 10,
      "outputs": [
        {
          "output_type": "stream",
          "name": "stdout",
          "text": [
            "likelihood   0.1  0.2  0.3  0.5\n",
            "impact                         \n",
            "1.0          NaN  0.2  NaN  NaN\n",
            "2.0          NaN  NaN  0.6  NaN\n",
            "7.0         0.70  NaN  NaN  NaN\n",
            "9.5         0.95  NaN  NaN  NaN\n",
            "10.0         NaN  NaN  NaN  5.0\n",
            "likelihood        0.1    0.2   0.3       0.5\n",
            "impact                                      \n",
            "1.0               NaN  users   NaN       NaN\n",
            "2.0               NaN    NaN  team       NaN\n",
            "7.0            budget    NaN   NaN       NaN\n",
            "9.5         managment    NaN   NaN       NaN\n",
            "10.0              NaN    NaN   NaN  secuirty\n"
          ]
        },
        {
          "output_type": "display_data",
          "data": {
            "image/png": "[encoded data removed]",
            "text/plain": [
              "<Figure size 432x288 with 2 Axes>"
            ]
          },
          "metadata": {
            "needs_background": "light"
          }
        }
      ]
    }
  ]
}