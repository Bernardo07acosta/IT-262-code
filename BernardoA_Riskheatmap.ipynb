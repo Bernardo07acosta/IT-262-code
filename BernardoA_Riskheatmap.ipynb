{
  "nbformat": 4,
  "nbformat_minor": 0,
  "metadata": {
    "colab": {
      "name": "BernardoA_Riskheatmap",
      "provenance": [],
      "collapsed_sections": [],
      "authorship_tag": "ABX9TyPalaOEWRcHEu0o5Fa3M5B8",
      "include_colab_link": true
    },
    "kernelspec": {
      "name": "python3",
      "display_name": "Python 3"
    },
    "language_info": {
      "name": "python"
    }
  },
  "cells": [
    {
      "cell_type": "markdown",
      "metadata": {
        "id": "view-in-github",
        "colab_type": "text"
      },
      "source": [
        "<a href=\"https://colab.research.google.com/github/Bernardo07acosta/IT-262-code/blob/main/BernardoA_Riskheatmap.ipynb\" target=\"_parent\"><img src=\"https://colab.research.google.com/assets/colab-badge.svg\" alt=\"Open In Colab\"/></a>"
      ]
    },
    {
      "cell_type": "code",
      "execution_count": 1,
      "metadata": {
        "id": "h4Qu2NocX7zm"
      },
      "outputs": [],
      "source": [
        "import seaborn as sns\n",
        "import pandas as pd\n",
        "import numpy as np\n",
        "\n",
        "#create a dataFrame (datatable)\n",
        "df=pd.DataFrame(columns=['risk','likelihood','impact','score'])"
      ]
    },
    {
      "cell_type": "code",
      "source": [
        "df['risk']=['users','team','budget','secuirty']"
      ],
      "metadata": {
        "id": "pUrs-kgSYmZQ"
      },
      "execution_count": 2,
      "outputs": []
    },
    {
      "cell_type": "code",
      "source": [
        "df['likelihood']=[0.2,0.3,0.1,0.5]"
      ],
      "metadata": {
        "id": "FdC1aCEzY1zE"
      },
      "execution_count": 3,
      "outputs": []
    },
    {
      "cell_type": "code",
      "source": [
        "df['impact']=[1,2,7,10]\n",
        "df['score']=df['impact']*df['likelihood']"
      ],
      "metadata": {
        "id": "DyXGTmz4Z9v6"
      },
      "execution_count": 4,
      "outputs": []
    },
    {
      "cell_type": "code",
      "source": [
        "df['score']=df['impact']*df['likelihood']"
      ],
      "metadata": {
        "id": "fYmNZNXeaRvh"
      },
      "execution_count": 5,
      "outputs": []
    },
    {
      "cell_type": "code",
      "source": [
        "scoresPivot=df.pivot('impact','likelihood','score')\n",
        "print(scoresPivot)\n",
        "\n",
        "labelsPivot=df.pivot('impact','likelihood','risk')\n",
        "print(labelsPivot)\n",
        "\n",
        "#replaces no lables with empty string\n",
        "lablesPivot.fillna('',inplace=True)\n",
        "\n",
        "#simple heatmap aka creates heatmap \n",
        "p1=sns.heatmap(scoresPivot, cmap=\"YlGn\",annot=labelsPivot, fmt='')"
      ],
      "metadata": {
        "colab": {
          "base_uri": "https://localhost:8080/",
          "height": 492
        },
        "id": "zGqgWCSIaawJ",
        "outputId": "35fa72fa-b8bf-4de7-a55f-20c25923191d"
      },
      "execution_count": 16,
      "outputs": [
        {
          "output_type": "stream",
          "name": "stdout",
          "text": [
            "likelihood  0.1  0.2  0.3  0.5\n",
            "impact                        \n",
            "1           NaN  0.2  NaN  NaN\n",
            "2           NaN  NaN  0.6  NaN\n",
            "7           0.7  NaN  NaN  NaN\n",
            "10          NaN  NaN  NaN  5.0\n",
            "likelihood     0.1    0.2    0.3       0.5\n",
            "impact                                    \n",
            "1              NaN  users    NaN       NaN\n",
            "2              NaN    NaN  teams       NaN\n",
            "7           budget    NaN    NaN       NaN\n",
            "10             NaN    NaN    NaN  secuirty\n"
          ]
        },
        {
          "output_type": "display_data",
          "data": {
            "image/png": "[encoded data removed]",
            "text/plain": [
              "<Figure size 432x288 with 2 Axes>"
            ]
          },
          "metadata": {
            "needs_background": "light"
          }
        }
      ]
    }
  ]
}