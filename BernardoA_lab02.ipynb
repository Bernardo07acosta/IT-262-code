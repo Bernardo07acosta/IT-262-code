{
  "nbformat": 4,
  "nbformat_minor": 0,
  "metadata": {
    "colab": {
      "name": "BernardoA_lab02.ipynb",
      "provenance": [],
      "collapsed_sections": [],
      "mount_file_id": "1GUBMSuxCkQetSwaNHf7ntAU3GHCc_7Ll",
      "authorship_tag": "ABX9TyNDkHXZdWtUfDtdh98YRpuC",
      "include_colab_link": true
    },
    "kernelspec": {
      "name": "python3",
      "display_name": "Python 3"
    },
    "language_info": {
      "name": "python"
    }
  },
  "cells": [
    {
      "cell_type": "markdown",
      "metadata": {
        "id": "view-in-github",
        "colab_type": "text"
      },
      "source": [
        "<a href=\"https://colab.research.google.com/github/Bernardo07acosta/IT-262-code/blob/main/BernardoA_lab02.ipynb\" target=\"_parent\"><img src=\"https://colab.research.google.com/assets/colab-badge.svg\" alt=\"Open In Colab\"/></a>"
      ]
    },
    {
      "cell_type": "code",
      "execution_count": 34,
      "metadata": {
        "id": "QJ8i9FDYstYq",
        "colab": {
          "base_uri": "https://localhost:8080/"
        },
        "outputId": "d937c4b2-b552-4469-d9ba-24482bf4d518"
      },
      "outputs": [
        {
          "output_type": "stream",
          "name": "stdout",
          "text": [
            "   years  developmentCost  operationalCost  valueOfBenefits\n",
            "0      0             -100                0                0\n",
            "1      1              -30              -10               25\n",
            "2      2                0              -15               55\n",
            "3      3                0              -15               85\n"
          ]
        }
      ],
      "source": [
        "import pandas as pd\n",
        "import math \n",
        "\n",
        "#read data \n",
        "dataT=pd.read_csv('/content/drive/MyDrive/262-CBA.csv')\n",
        "print(dataT)"
      ]
    },
    {
      "cell_type": "code",
      "source": [
        "discountRate=0.05\n",
        "#the compounding discount over the years\n",
        "\n",
        "#create a list of 4 0 elements\n",
        "discountFactor=[0,0,0,0]\n",
        "\n",
        "for year in dataT['years']:\n",
        "  discountFactor[year]=1/math.pow(1+discountRate, year)\n",
        "\n",
        "dataT['discountFactor']=[round(num, 2) for num in discountFactor]\n",
        "print(dataT)\n",
        "\n",
        "result=math.pow(2,2)\n",
        "print('\\nIf you multiply 2 times its self it should be equal to: ',result) \n",
        "\n"
      ],
      "metadata": {
        "colab": {
          "base_uri": "https://localhost:8080/"
        },
        "id": "qBOAFVksuVjs",
        "outputId": "29675062-c16c-41e9-aa8a-22e4f9d62f27"
      },
      "execution_count": 35,
      "outputs": [
        {
          "output_type": "stream",
          "name": "stdout",
          "text": [
            "   years  developmentCost  operationalCost  valueOfBenefits  discountFactor\n",
            "0      0             -100                0                0            1.00\n",
            "1      1              -30              -10               25            0.95\n",
            "2      2                0              -15               55            0.91\n",
            "3      3                0              -15               85            0.86\n",
            "\n",
            "If you multiply 2 times its self it should be equal to:  4.0\n"
          ]
        }
      ]
    },
    {
      "cell_type": "code",
      "source": [
        "#calculate Net benefits/cost for each year\n",
        "# you sum all the benift & cost values\n",
        "\n",
        "#initital a list of 4 - i have years 0 to 4\n",
        "NetBC=[0,0,0,0]\n",
        "\n",
        "for year in dataT['years']:\n",
        "  NetBC[year]= dataT['developmentCost'][year]+dataT['operationalCost'][year]+dataT['valueOfBenefits'][year]\n",
        "\n",
        "dataT[\"NetBC\"]=NetBC\n",
        "print (dataT)\n",
        "print('\\n')\n",
        "print( 'This is '+'Bernardo Acostas work')"
      ],
      "metadata": {
        "colab": {
          "base_uri": "https://localhost:8080/"
        },
        "id": "SM1V8ATFwCb_",
        "outputId": "927f1d80-3f89-48a3-cc17-75ea54ee5cc7"
      },
      "execution_count": 36,
      "outputs": [
        {
          "output_type": "stream",
          "name": "stdout",
          "text": [
            "   years  developmentCost  ...  discountFactor  NetBC\n",
            "0      0             -100  ...            1.00   -100\n",
            "1      1              -30  ...            0.95    -15\n",
            "2      2                0  ...            0.91     40\n",
            "3      3                0  ...            0.86     70\n",
            "\n",
            "[4 rows x 6 columns]\n",
            "\n",
            "\n",
            "This is Bernardo Acostas work\n"
          ]
        }
      ]
    },
    {
      "cell_type": "code",
      "source": [
        "#calculate Net present value\n",
        "\n",
        "#initialize an empty list of 4 items- 1 for each year\n",
        "print('Bernardo Acostas work!\\n')\n",
        "NPV=[0,0,0,0]\n",
        "\n",
        "for year in dataT[\"years\"]:\n",
        "  NPV[year]=dataT['NetBC'][year]*dataT['discountFactor'][year]\n",
        "\n",
        "dataT['NPV']=[round(num,2 )for num in NPV]\n",
        "print(dataT)"
      ],
      "metadata": {
        "colab": {
          "base_uri": "https://localhost:8080/"
        },
        "id": "PvPghOKZxmuA",
        "outputId": "4d85a5d1-8a49-4c9f-ae53-c7151f643907"
      },
      "execution_count": 37,
      "outputs": [
        {
          "output_type": "stream",
          "name": "stdout",
          "text": [
            "Bernardo Acostas work!\n",
            "\n",
            "   years  developmentCost  operationalCost  ...  discountFactor  NetBC     NPV\n",
            "0      0             -100                0  ...            1.00   -100 -100.00\n",
            "1      1              -30              -10  ...            0.95    -15  -14.25\n",
            "2      2                0              -15  ...            0.91     40   36.40\n",
            "3      3                0              -15  ...            0.86     70   60.20\n",
            "\n",
            "[4 rows x 7 columns]\n"
          ]
        }
      ]
    },
    {
      "cell_type": "code",
      "source": [
        ""
      ],
      "metadata": {
        "id": "mQ-auxtdzr1y"
      },
      "execution_count": null,
      "outputs": []
    }
  ]
}